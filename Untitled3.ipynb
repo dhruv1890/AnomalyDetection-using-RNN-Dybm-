{
 "cells": [
  {
   "cell_type": "code",
   "execution_count": 294,
   "metadata": {},
   "outputs": [
    {
     "name": "stdout",
     "output_type": "stream",
     "text": [
      "[[1007.64]\n",
      " [1007.64]\n",
      " [1007.64]\n",
      " ...\n",
      " [1022.33]\n",
      " [1021.39]\n",
      " [1020.44]]\n",
      "Number of Observations/datapoints in each dimension 12070\n"
     ]
    }
   ],
   "source": [
    "if __name__ == \"__main__\":\n",
    "    import numpy as np\n",
    "import matplotlib.pyplot as plt\n",
    "import pandas\n",
    "import math\n",
    "import time\n",
    "from keras.models import Sequential\n",
    "from keras.layers import Dense\n",
    "from keras.layers import LSTM, SimpleRNN\n",
    "from sklearn.preprocessing import MinMaxScaler\n",
    "import os\n",
    "\n",
    "from pydybm.time_series.dybm import LinearDyBM\n",
    "from pydybm.time_series.rnn_gaussian_dybm import RNNGaussianDyBM, GaussianDyBM\n",
    "from pydybm.base.sgd import RMSProp\n",
    "from scipy.ndimage.filters import gaussian_filter1d\n",
    "from sklearn.metrics import mean_squared_error\n",
    "dataframe = pandas.read_csv(\"/home/dhruv/Downloads/BH11D_CF_Algo (labelled) - BH11D_CF_Algo (labelled).csv\",\n",
    "                        usecols=[4], engine='python')\n",
    "dataset = dataframe.values\n",
    "dataset = dataset.astype('float32')\n",
    "print(dataset)\n",
    "np.random.seed(2)\n",
    "# normalize the dataset\n",
    "scaler = MinMaxScaler(feature_range=(0, 1))\n",
    "dataset = scaler.fit_transform(dataset)\n",
    "RNN_dim = 10\n",
    "input_dim = 1\n",
    "max_epochs = 5\n",
    "saveResults = False\n",
    "SGD = RMSProp\n",
    "decay = [0.5]\n",
    "\n",
    "print \"Number of Observations/datapoints in each dimension\", len(dataset)\n",
    "# split into train and test sets (default 60% train, 40% test)\n",
    "def create_dataset(dataset, look_back=1):\n",
    "    dataX, dataY = [], []\n",
    "    for i in range(len(dataset) - look_back - 1):\n",
    "        a = dataset[i:(i + look_back), :]\n",
    "        dataX.append(a)\n",
    "        dataY.append(dataset[i + look_back, :])\n",
    "    return np.array(dataX), np.array(dataY)\n",
    "look_back = 1\n",
    "trainX, trainY = create_dataset(train, look_back)\n",
    "testX, testY = create_dataset(test, look_back)\n",
    "trainPercentage = 0.6\n",
    "train_size = int(len(dataset) * trainPercentage)\n",
    "test_size = len(dataset) - train_size\n",
    "train, test = dataset[0:train_size, :], dataset[train_size:len(dataset), :]\n",
    "trainX = np.reshape(trainX, (trainX.shape[0], input_dim))\n",
    "testX = np.reshape(testX, (testX.shape[0], input_dim))\n",
    "for delay in [3]:\n",
    "    \n",
    "    dybm = RNNGaussianDyBM(input_dim, input_dim, RNN_dim, 0.3,\n",
    "                                   0.1, delay, decay_rates=decay, leak=1.0,\n",
    "                                   SGD=SGD())\n",
    "\n",
    "dybm.set_learning_rate(0.001)\n",
    "dybm.init_state\n",
    "dybm.init_state()\n",
    "result = dybm.learn(trainX, get_result=True)\n",
    "result2 = dybm.learn(testX, get_result=True)\n",
    "\n"
   ]
  },
  {
   "cell_type": "code",
   "execution_count": null,
   "metadata": {},
   "outputs": [],
   "source": [
    "a = [154256.6]\n",
    "singleX=pandas.DataFrame(np.array([\n",
    "0.1,\n",
    "0.08,\n",
    "0.08,\n",
    "0.17,\n",
    "0.73,\n",
    "0.3,\n",
    "0.55,\n",
    "0.83,\n",
    "1,\n",
    "1.52,\n",
    " \n",
    "]))\n",
    "\n",
    "singleX=np.array(singleX)\n",
    "singleX = np.reshape(singleX, (singleX.shape[0], input_dim))\n",
    "a = dybm.learn(singleX,get_result =True)\n",
    "print (a)"
   ]
  },
  {
   "cell_type": "code",
   "execution_count": 36,
   "metadata": {},
   "outputs": [
    {
     "name": "stdout",
     "output_type": "stream",
     "text": [
      "<type 'numpy.ndarray'>\n"
     ]
    }
   ],
   "source": [
    "print(type(trainX))"
   ]
  }
 ],
 "metadata": {
  "kernelspec": {
   "display_name": "Python 2",
   "language": "python",
   "name": "python2"
  },
  "language_info": {
   "codemirror_mode": {
    "name": "ipython",
    "version": 2
   },
   "file_extension": ".py",
   "mimetype": "text/x-python",
   "name": "python",
   "nbconvert_exporter": "python",
   "pygments_lexer": "ipython2",
   "version": "2.7.15rc1"
  }
 },
 "nbformat": 4,
 "nbformat_minor": 2
}
