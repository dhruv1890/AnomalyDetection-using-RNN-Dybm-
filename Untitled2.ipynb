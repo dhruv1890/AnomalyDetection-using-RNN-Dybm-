{
 "cells": [
  {
   "cell_type": "code",
   "execution_count": 1,
   "metadata": {},
   "outputs": [
    {
     "name": "stderr",
     "output_type": "stream",
     "text": [
      "/usr/local/lib/python2.7/dist-packages/pandas/_libs/__init__.py:4: RuntimeWarning: numpy.dtype size changed, may indicate binary incompatibility. Expected 96, got 88\n",
      "  from .tslib import iNaT, NaT, Timestamp, Timedelta, OutOfBoundsDatetime\n",
      "/usr/local/lib/python2.7/dist-packages/pandas/__init__.py:26: RuntimeWarning: numpy.dtype size changed, may indicate binary incompatibility. Expected 96, got 88\n",
      "  from pandas._libs import (hashtable as _hashtable,\n",
      "/usr/local/lib/python2.7/dist-packages/pandas/core/dtypes/common.py:6: RuntimeWarning: numpy.dtype size changed, may indicate binary incompatibility. Expected 96, got 88\n",
      "  from pandas._libs import algos, lib\n",
      "/usr/local/lib/python2.7/dist-packages/pandas/core/util/hashing.py:7: RuntimeWarning: numpy.dtype size changed, may indicate binary incompatibility. Expected 96, got 88\n",
      "  from pandas._libs import hashing, tslib\n",
      "/usr/local/lib/python2.7/dist-packages/pandas/core/indexes/base.py:7: RuntimeWarning: numpy.dtype size changed, may indicate binary incompatibility. Expected 96, got 88\n",
      "  from pandas._libs import (lib, index as libindex, tslib as libts,\n",
      "/usr/local/lib/python2.7/dist-packages/pandas/tseries/offsets.py:21: RuntimeWarning: numpy.dtype size changed, may indicate binary incompatibility. Expected 96, got 88\n",
      "  import pandas._libs.tslibs.offsets as liboffsets\n",
      "/usr/local/lib/python2.7/dist-packages/pandas/core/ops.py:16: RuntimeWarning: numpy.dtype size changed, may indicate binary incompatibility. Expected 96, got 88\n",
      "  from pandas._libs import algos as libalgos, ops as libops\n",
      "/usr/local/lib/python2.7/dist-packages/pandas/core/indexes/interval.py:32: RuntimeWarning: numpy.dtype size changed, may indicate binary incompatibility. Expected 96, got 88\n",
      "  from pandas._libs.interval import (\n",
      "/usr/local/lib/python2.7/dist-packages/pandas/core/internals.py:14: RuntimeWarning: numpy.dtype size changed, may indicate binary incompatibility. Expected 96, got 88\n",
      "  from pandas._libs import internals as libinternals\n",
      "/usr/local/lib/python2.7/dist-packages/pandas/core/sparse/array.py:33: RuntimeWarning: numpy.dtype size changed, may indicate binary incompatibility. Expected 96, got 88\n",
      "  import pandas._libs.sparse as splib\n",
      "/usr/local/lib/python2.7/dist-packages/pandas/core/window.py:36: RuntimeWarning: numpy.dtype size changed, may indicate binary incompatibility. Expected 96, got 88\n",
      "  import pandas._libs.window as _window\n",
      "/usr/local/lib/python2.7/dist-packages/pandas/core/groupby/groupby.py:68: RuntimeWarning: numpy.dtype size changed, may indicate binary incompatibility. Expected 96, got 88\n",
      "  from pandas._libs import (lib, reduction,\n",
      "/usr/local/lib/python2.7/dist-packages/pandas/core/reshape/reshape.py:30: RuntimeWarning: numpy.dtype size changed, may indicate binary incompatibility. Expected 96, got 88\n",
      "  from pandas._libs import algos as _algos, reshape as _reshape\n",
      "/usr/local/lib/python2.7/dist-packages/pandas/io/parsers.py:45: RuntimeWarning: numpy.dtype size changed, may indicate binary incompatibility. Expected 96, got 88\n",
      "  import pandas._libs.parsers as parsers\n",
      "/usr/local/lib/python2.7/dist-packages/pandas/io/pytables.py:50: RuntimeWarning: numpy.dtype size changed, may indicate binary incompatibility. Expected 96, got 88\n",
      "  from pandas._libs import algos, lib, writers as libwriters\n"
     ]
    }
   ],
   "source": [
    "import pandas \n",
    "dataframe = pandas.read_csv(\"/home/dhruv/Downloads/monthly-sunspot-number-zurich-17.csv\",\n",
    "                            usecols=[1], engine='python', skipfooter=3)"
   ]
  },
  {
   "cell_type": "code",
   "execution_count": 2,
   "metadata": {},
   "outputs": [
    {
     "name": "stdout",
     "output_type": "stream",
     "text": [
      "      Monthly sunspot number, Zurich, 1749-1983\n",
      "0                                          58.0\n",
      "1                                          62.6\n",
      "2                                          70.0\n",
      "3                                          55.7\n",
      "4                                          85.0\n",
      "5                                          83.5\n",
      "6                                          94.8\n",
      "7                                          66.3\n",
      "8                                          75.9\n",
      "9                                          75.5\n",
      "10                                        158.6\n",
      "11                                         85.2\n",
      "12                                         73.3\n",
      "13                                         75.9\n",
      "14                                         89.2\n",
      "15                                         88.3\n",
      "16                                         90.0\n",
      "17                                        100.0\n",
      "18                                         85.4\n",
      "19                                        103.0\n",
      "20                                         91.2\n",
      "21                                         65.7\n",
      "22                                         63.3\n",
      "23                                         75.4\n",
      "24                                         70.0\n",
      "25                                         43.5\n",
      "26                                         45.3\n",
      "27                                         56.4\n",
      "28                                         60.7\n",
      "29                                         50.7\n",
      "...                                         ...\n",
      "2790                                      143.8\n",
      "2791                                      158.7\n",
      "2792                                      167.3\n",
      "2793                                      162.4\n",
      "2794                                      137.5\n",
      "2795                                      150.1\n",
      "2796                                      111.2\n",
      "2797                                      163.6\n",
      "2798                                      153.8\n",
      "2799                                      122.0\n",
      "2800                                       82.2\n",
      "2801                                      110.4\n",
      "2802                                      106.1\n",
      "2803                                      107.6\n",
      "2804                                      118.8\n",
      "2805                                       94.7\n",
      "2806                                       98.1\n",
      "2807                                      127.0\n",
      "2808                                       84.3\n",
      "2809                                       51.0\n",
      "2810                                       66.5\n",
      "2811                                       80.7\n",
      "2812                                       99.2\n",
      "2813                                       91.1\n",
      "2814                                       82.2\n",
      "2815                                       71.8\n",
      "2816                                       50.3\n",
      "2817                                       55.8\n",
      "2818                                       33.3\n",
      "2819                                       33.4\n",
      "\n",
      "[2820 rows x 1 columns]\n"
     ]
    }
   ],
   "source": [
    "print(dataframe)"
   ]
  }
 ],
 "metadata": {
  "kernelspec": {
   "display_name": "Python 2",
   "language": "python",
   "name": "python2"
  },
  "language_info": {
   "codemirror_mode": {
    "name": "ipython",
    "version": 2
   },
   "file_extension": ".py",
   "mimetype": "text/x-python",
   "name": "python",
   "nbconvert_exporter": "python",
   "pygments_lexer": "ipython2",
   "version": "2.7.15rc1"
  }
 },
 "nbformat": 4,
 "nbformat_minor": 2
}
