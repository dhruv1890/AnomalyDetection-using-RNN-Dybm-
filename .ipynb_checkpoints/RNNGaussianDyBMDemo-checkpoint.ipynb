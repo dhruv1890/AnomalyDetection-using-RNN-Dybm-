{
 "cells": [
  {
   "cell_type": "markdown",
   "metadata": {},
   "source": [
    "RNNGaussianDyBM timeseries prediction demo\n",
    "===========================================\n",
    "\n",
    "- Author: Sakyasingha Dasgupta (sdasgup@jp.ibm.com)\n",
    "\n",
    "- Date: Sep 27, 2016.\n",
    "- (C) Copyright IBM Corp. 2016\n",
    "\n",
    "The RNNGaussianDyBM (RNN-G-DyBM) extends the Gaussian DyBM model by introducing a nonlinear hidden RNN layer. Similar to other DyBM models, the Gaussian DyBM can be trained online for learning the generative model of given time-series patterns, and can be then used to predict future values of the time series. Using the nonlinear RNN layer it can project the original time series input to a high dimensional nonlinear state space, which can be effective in deal with inherent nonlinearities and long temporal memory dependencies.\n",
    "\n",
    "See `RNNGaussianDyBM module` in docs for mathematical description. \n",
    "\n",
    "For further model details see:\n",
    "[1] S.Dasgupta & T. Osogami, Nonlinear Dynamic Boltzmann Machine for Time-series Prediction (in submission)\n",
    "\n",
    "Model descriptions and initialization\n",
    "-------------------------------------\n",
    "RNN-G-DyBM uses the same memory units as available with the G-DyBM model. \n",
    "\n",
    "RNN-G-DyBM can be initialized using the following parameters:\n",
    "\n",
    "- `in_dim` is the dimension of the input time-series patterns $\\mathbf{X}$.\n",
    "\n",
    "- `out_dim` is the dimension of the expected output time-series patterns\n",
    "\n",
    "- `rnn_dim` is the dimension of the hidden RNN layer\n",
    "\n",
    "- `spectral_radius` is the spectral radius of the RNN layer weight matrix\n",
    "\n",
    "- `sparsity` is the sparsity of the RNN layer weight matrix\n",
    "\n",
    "- `delay` determines the length of the queue (which will be `delay`-1).\n",
    "\n",
    "- `decay_rates` is a list of eligibility traces' parameters.\n",
    "\n",
    "- `leak` is the discount rate of the RNN layer units. 0.0<`leak`<=1.0\n",
    "\n",
    "- `SGD` decides the type of stochastic gradient descent optimization to use. Options: AdaGrad (default), AdaGradPlus, RMSProp and ADAM.\n",
    "\n",
    "- `random_seed` fixed the random number generator seed for reproducibility of results\n",
    "\n",
    "- `L1` specifies the strength of L1 regularization. (defaults to zero)\n",
    "\n",
    "- `L2` specifies the strength of L1 regularization. (defaults to zero)\n",
    "\n",
    "- `learning_rate` sets the learning rate of SGD.\n",
    "\n",
    "\n",
    "Example\n",
    "-------\n",
    "In this simple example we use the RNN-G-DyBM to learn to predict the next pattern for of a noisy sine wave with large standard deviatin of noise. This example is similar to Gaussian DybM demo for comparison:\n"
   ]
  },
  {
   "cell_type": "code",
   "execution_count": 3,
   "metadata": {},
   "outputs": [
    {
     "name": "stderr",
     "output_type": "stream",
     "text": [
      "/home/dhruv/.local/lib/python2.7/site-packages/scipy/sparse/lil.py:19: RuntimeWarning: numpy.dtype size changed, may indicate binary incompatibility. Expected 96, got 88\n",
      "  from . import _csparsetools\n",
      "/home/dhruv/.local/lib/python2.7/site-packages/scipy/sparse/csgraph/__init__.py:165: RuntimeWarning: numpy.dtype size changed, may indicate binary incompatibility. Expected 96, got 88\n",
      "  from ._shortest_path import shortest_path, floyd_warshall, dijkstra,\\\n",
      "/home/dhruv/.local/lib/python2.7/site-packages/scipy/sparse/csgraph/_validation.py:5: RuntimeWarning: numpy.dtype size changed, may indicate binary incompatibility. Expected 96, got 88\n",
      "  from ._tools import csgraph_to_dense, csgraph_from_dense,\\\n",
      "/home/dhruv/.local/lib/python2.7/site-packages/scipy/sparse/csgraph/__init__.py:167: RuntimeWarning: numpy.dtype size changed, may indicate binary incompatibility. Expected 96, got 88\n",
      "  from ._traversal import breadth_first_order, depth_first_order, \\\n",
      "/home/dhruv/.local/lib/python2.7/site-packages/scipy/sparse/csgraph/__init__.py:169: RuntimeWarning: numpy.dtype size changed, may indicate binary incompatibility. Expected 96, got 88\n",
      "  from ._min_spanning_tree import minimum_spanning_tree\n",
      "/home/dhruv/.local/lib/python2.7/site-packages/scipy/sparse/csgraph/__init__.py:170: RuntimeWarning: numpy.dtype size changed, may indicate binary incompatibility. Expected 96, got 88\n",
      "  from ._reordering import reverse_cuthill_mckee, maximum_bipartite_matching, \\\n",
      "/home/dhruv/.local/lib/python2.7/site-packages/sklearn/utils/__init__.py:9: RuntimeWarning: numpy.dtype size changed, may indicate binary incompatibility. Expected 96, got 88\n",
      "  from .murmurhash import murmurhash3_32\n",
      "/home/dhruv/.local/lib/python2.7/site-packages/scipy/linalg/basic.py:17: RuntimeWarning: numpy.dtype size changed, may indicate binary incompatibility. Expected 96, got 88\n",
      "  from ._solve_toeplitz import levinson\n",
      "/home/dhruv/.local/lib/python2.7/site-packages/scipy/linalg/__init__.py:207: RuntimeWarning: numpy.dtype size changed, may indicate binary incompatibility. Expected 96, got 88\n",
      "  from ._decomp_update import *\n",
      "/home/dhruv/.local/lib/python2.7/site-packages/scipy/special/__init__.py:640: RuntimeWarning: numpy.dtype size changed, may indicate binary incompatibility. Expected 96, got 88\n",
      "  from ._ufuncs import *\n",
      "/home/dhruv/.local/lib/python2.7/site-packages/scipy/special/_ellip_harm.py:7: RuntimeWarning: numpy.dtype size changed, may indicate binary incompatibility. Expected 96, got 88\n",
      "  from ._ellip_harm_2 import _ellipsoid, _ellipsoid_norm\n",
      "/home/dhruv/.local/lib/python2.7/site-packages/scipy/interpolate/_bsplines.py:10: RuntimeWarning: numpy.dtype size changed, may indicate binary incompatibility. Expected 96, got 88\n",
      "  from . import _bspl\n",
      "/home/dhruv/.local/lib/python2.7/site-packages/scipy/spatial/__init__.py:95: RuntimeWarning: numpy.dtype size changed, may indicate binary incompatibility. Expected 96, got 88\n",
      "  from .ckdtree import *\n",
      "/home/dhruv/.local/lib/python2.7/site-packages/scipy/spatial/__init__.py:96: RuntimeWarning: numpy.dtype size changed, may indicate binary incompatibility. Expected 96, got 88\n",
      "  from .qhull import *\n",
      "/home/dhruv/.local/lib/python2.7/site-packages/scipy/spatial/_spherical_voronoi.py:18: RuntimeWarning: numpy.dtype size changed, may indicate binary incompatibility. Expected 96, got 88\n",
      "  from . import _voronoi\n",
      "/home/dhruv/.local/lib/python2.7/site-packages/scipy/spatial/distance.py:122: RuntimeWarning: numpy.dtype size changed, may indicate binary incompatibility. Expected 96, got 88\n",
      "  from . import _hausdorff\n",
      "/home/dhruv/.local/lib/python2.7/site-packages/scipy/optimize/_trlib/__init__.py:1: RuntimeWarning: numpy.dtype size changed, may indicate binary incompatibility. Expected 96, got 88\n",
      "  from ._trlib import TRLIBQuadraticSubproblem\n",
      "/home/dhruv/.local/lib/python2.7/site-packages/scipy/optimize/_numdiff.py:10: RuntimeWarning: numpy.dtype size changed, may indicate binary incompatibility. Expected 96, got 88\n",
      "  from ._group_columns import group_dense, group_sparse\n",
      "/home/dhruv/.local/lib/python2.7/site-packages/scipy/stats/_continuous_distns.py:18: RuntimeWarning: numpy.dtype size changed, may indicate binary incompatibility. Expected 96, got 88\n",
      "  from . import _stats\n",
      "/home/dhruv/.local/lib/python2.7/site-packages/sklearn/utils/extmath.py:24: RuntimeWarning: numpy.dtype size changed, may indicate binary incompatibility. Expected 96, got 88\n",
      "  from ._logistic_sigmoid import _log_logistic_sigmoid\n",
      "/home/dhruv/.local/lib/python2.7/site-packages/sklearn/utils/extmath.py:26: RuntimeWarning: numpy.dtype size changed, may indicate binary incompatibility. Expected 96, got 88\n",
      "  from .sparsefuncs_fast import csr_row_norms\n",
      "/home/dhruv/.local/lib/python2.7/site-packages/sklearn/metrics/cluster/supervised.py:23: RuntimeWarning: numpy.dtype size changed, may indicate binary incompatibility. Expected 96, got 88\n",
      "  from .expected_mutual_info_fast import expected_mutual_information\n",
      "/home/dhruv/.local/lib/python2.7/site-packages/sklearn/metrics/pairwise.py:30: RuntimeWarning: numpy.dtype size changed, may indicate binary incompatibility. Expected 96, got 88\n",
      "  from .pairwise_fast import _chi2_kernel_fast, _sparse_manhattan\n"
     ]
    },
    {
     "name": "stdout",
     "output_type": "stream",
     "text": [
      "Learning epoch RMSE : 0.38110\n",
      "Learning epoch RMSE : 0.14297\n",
      "Learning epoch RMSE : 0.14516\n",
      "Learning epoch RMSE : 0.14184\n",
      "Learning epoch RMSE : 0.13765\n",
      "Learning epoch RMSE : 0.14025\n",
      "Learning epoch RMSE : 0.13572\n",
      "Learning epoch RMSE : 0.13575\n",
      "Learning epoch RMSE : 0.14817\n",
      "Learning epoch RMSE : 0.14397\n"
     ]
    },
    {
     "data": {
      "text/plain": [
       "<matplotlib.legend.Legend at 0x7fcdd416e490>"
      ]
     },
     "execution_count": 3,
     "metadata": {},
     "output_type": "execute_result"
    },
    {
     "data": {
      "image/png": "[encoded data removed]",
      "text/plain": [
       "<Figure size 432x288 with 1 Axes>"
      ]
     },
     "metadata": {},
     "output_type": "display_data"
    }
   ],
   "source": [
    "%matplotlib inline\n",
    "import matplotlib.pyplot as plt\n",
    "from pydybm.base.generator import NoisySin\n",
    "from pydybm.time_series.rnn_gaussian_dybm import RNNGaussianDyBM\n",
    "from pydybm.base.sgd import RMSProp\n",
    "from sklearn.metrics import mean_squared_error\n",
    "import numpy as np\n",
    "\n",
    "def MSE(y_true,y_pred):\n",
    "    \"\"\"\n",
    "    Function to calculate the mean squared error of a sequence of predicted vectors\n",
    "    \n",
    "    y_true : array, shape(L,N)\n",
    "    y_pred : array, shape(L,N)\n",
    "\n",
    "    mean of (dy_1^2 + ... + dy_N^2 ) over L pairs of vectors (y_true[i],y_pred[i])\n",
    "    \"\"\"\n",
    "    MSE_each_coordinate = mean_squared_error(y_true,y_pred,multioutput=\"raw_values\")\n",
    "    return np.sum(MSE_each_coordinate)\n",
    "\n",
    "def RMSE(y_true,y_pred):\n",
    "    \"\"\"\n",
    "    Function to calculate the root mean squared error of a sequence of predicted vectors\n",
    "    \n",
    "    y_true : array, shape(L,N)\n",
    "    y_pred : array, shape(L,N)\n",
    "\n",
    "    squared root of the mean of (dy_1^2 + ... + dy_N^2 ) over L pairs of vectors (y_true[i],y_pred[i])\n",
    "    \"\"\"\n",
    "    return np.sqrt(MSE(y_true,y_pred))\n",
    "\n",
    "# Prepare a generator of noisy sine wave time-series\n",
    "length = 600  # length of the time-series\n",
    "period = 80   # period of the sine wave\n",
    "std = 0.1     # standard deviation of the noise\n",
    "dim = 1       # dimension of the time-series\n",
    "timeSeries = NoisySin(length,period,std,dim)\n",
    "\n",
    "\n",
    "#DyBM initialization parameters\n",
    "in_dim = 1        # dimension of the input time-series\n",
    "out_dim = 1       # dimension of the expected output time-series\n",
    "rnn_dim = 100     # dimension of RNN layer\n",
    "max_iter = 10     # maximum number of learning epochs/iterations to run\n",
    "SGD = RMSProp     # setting the SGD optimization method  \n",
    "\n",
    "#setting RNN-G-DyBM hyperparameters\n",
    "delay = 2\n",
    "decay = 0.3\n",
    "sparsity = 0.1\n",
    "spectral_radius = 0.95\n",
    "leak = 1.0\n",
    "learning_rate = 0.001\n",
    "random_seed = 2\n",
    "\n",
    "# Create and initialize a RNN-Gaussian DyBM\n",
    "model = RNNGaussianDyBM(in_dim,out_dim,rnn_dim,spectral_radius,sparsity,delay=delay,\n",
    "                        decay_rates =[decay],leak=leak, random_seed = random_seed, SGD=SGD())  \n",
    "model.set_learning_rate(learning_rate)\n",
    "\n",
    "\n",
    "#training the RNNGaussian DyBM\n",
    "for i in range(max_iter):\n",
    "    #initialize the memory units in DyBM\n",
    "    model.init_state() \n",
    "    #reset the noisey sine wave time series data\n",
    "    timeSeries.reset(i)\n",
    "    #learn the time-series patterns and return the predicted and actual data\n",
    "    result= model.learn(timeSeries, get_result=True)\n",
    "    #calculate the prediction error\n",
    "    error = RMSE(result[\"actual\"],result[\"prediction\"])\n",
    "    print ('Learning epoch RMSE : %.5f' %(error))\n",
    "    \n",
    "# Plot the time-series and prediction \n",
    "\n",
    "plt.plot(result[\"actual\"],label=\"target\")\n",
    "plt.plot(result[\"prediction\"],label=\"prediction\")\n",
    "plt.legend()"
   ]
  },
  {
   "cell_type": "code",
   "execution_count": 1,
   "metadata": {},
   "outputs": [
    {
     "ename": "NameError",
     "evalue": "name 'prediction' is not defined",
     "output_type": "error",
     "traceback": [
      "\u001b[0;31m---------------------------------------------------------------------------\u001b[0m",
      "\u001b[0;31mNameError\u001b[0m                                 Traceback (most recent call last)",
      "\u001b[0;32m<ipython-input-1-6a0071460518>\u001b[0m in \u001b[0;36m<module>\u001b[0;34m()\u001b[0m\n\u001b[0;32m----> 1\u001b[0;31m print(prediction\n\u001b[0m\u001b[1;32m      2\u001b[0m      )\n",
      "\u001b[0;31mNameError\u001b[0m: name 'prediction' is not defined"
     ]
    }
   ],
   "source": [
    "print(prediction\n",
    "     )print"
   ]
  },
  {
   "cell_type": "code",
   "execution_count": 2,
   "metadata": {},
   "outputs": [
    {
     "ename": "NameError",
     "evalue": "name 'result' is not defined",
     "output_type": "error",
     "traceback": [
      "\u001b[0;31m---------------------------------------------------------------------------\u001b[0m",
      "\u001b[0;31mNameError\u001b[0m                                 Traceback (most recent call last)",
      "\u001b[0;32m<ipython-input-2-5037703176b9>\u001b[0m in \u001b[0;36m<module>\u001b[0;34m()\u001b[0m\n\u001b[0;32m----> 1\u001b[0;31m print(result\n\u001b[0m\u001b[1;32m      2\u001b[0m      )\n",
      "\u001b[0;31mNameError\u001b[0m: name 'result' is not defined"
     ]
    }
   ],
   "source": [
    "print(result\n",
    "     )"
   ]
  },
  {
   "cell_type": "code",
   "execution_count": null,
   "metadata": {},
   "outputs": [],
   "source": []
  }
 ],
 "metadata": {
  "kernelspec": {
   "display_name": "Python 2",
   "language": "python",
   "name": "python2"
  },
  "language_info": {
   "codemirror_mode": {
    "name": "ipython",
    "version": 2
   },
   "file_extension": ".py",
   "mimetype": "text/x-python",
   "name": "python",
   "nbconvert_exporter": "python",
   "pygments_lexer": "ipython2",
   "version": "2.7.15rc1"
  }
 },
 "nbformat": 4,
 "nbformat_minor": 1
}
